{
 "cells": [
  {
   "cell_type": "markdown",
   "metadata": {},
   "source": []
  },
  {
   "cell_type": "code",
   "execution_count": null,
   "metadata": {},
   "outputs": [],
   "source": [
    "import random\n",
    "import math\n",
    "\n",
    "# Get user input for the number range\n",
    "x, y = map(int, input(\"Enter the range (two integers separated by a comma): \").split(\",\"))\n",
    "r = random.randint(x, y)  # Generate a random number within the specified range\n",
    "\n",
    "count = 0\n",
    "guessed_number = None  # Initialize guessed_number to None to enter the loop\n",
    "\n",
    "# Loop until the correct number is guessed\n",
    "while r != guessed_number:\n",
    "    # Get user input for the guessed number\n",
    "    guessed_number = int(input(f\"Guess a number between {x} and {y}: \"))\n",
    "\n",
    "    # Increment the count for each guess\n",
    "    count += 1  \n",
    "\n",
    "    # Provide feedback to the user based on their guess\n",
    "    if guessed_number > r:\n",
    "        print(\"Too high! Try again.\")\n",
    "    elif guessed_number < r:\n",
    "        print(\"Too low! Try again.\")\n",
    "\n",
    "# Calculate the minimum number of attempts using log2\n",
    "min_attempts = math.log2((y - x + 1))\n",
    "\n",
    "# Check if the player won or lost\n",
    "if count <= min_attempts:\n",
    "    print(f\"Congratulations! You guessed the number in {count} attempts and won!\")\n",
    "else:\n",
    "    print(f\"You lose. It could be done in fewer attempts. The correct number was {r}.\")\n",
    "\n"
   ]
  }
 ],
 "metadata": {
  "kernelspec": {
   "display_name": "Python 3",
   "language": "python",
   "name": "python3"
  },
  "language_info": {
   "codemirror_mode": {
    "name": "ipython",
    "version": 3
   },
   "file_extension": ".py",
   "mimetype": "text/x-python",
   "name": "python",
   "nbconvert_exporter": "python",
   "pygments_lexer": "ipython3",
   "version": "3.11.4"
  }
 },
 "nbformat": 4,
 "nbformat_minor": 2
}
